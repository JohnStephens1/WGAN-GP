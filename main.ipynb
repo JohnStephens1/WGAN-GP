{
 "cells": [
  {
   "cell_type": "code",
   "execution_count": 1,
   "id": "aa6d8f80-c4fa-4fa0-b68d-c4f03127c07f",
   "metadata": {},
   "outputs": [],
   "source": [
    "import tensorflow as tf\n",
    "import numpy as np\n",
    "import matplotlib.pyplot as plt\n",
    "\n",
    "from pathlib import Path\n",
    "\n",
    "import time\n",
    "from IPython import display\n",
    "\n",
    "import cv2"
   ]
  },
  {
   "cell_type": "code",
   "execution_count": 2,
   "id": "22ca8cd6-8384-4eee-bd40-75923673bfb6",
   "metadata": {},
   "outputs": [],
   "source": [
    "CWD = Path.cwd()\n",
    "CHECKPOINT_DIR = CWD/'checkpoints'\n",
    "GENERATED_IMAGES_DIR = CWD/'generated_images'\n",
    "SINGLE_IMAGE_DIR = GENERATED_IMAGES_DIR/'single'\n",
    "COLLAGE_DIR = GENERATED_IMAGES_DIR/'collage'\n",
    "DATASET_PATH = Path(r'E:\\datasets\\gan-getting-started')\n",
    "FOLDERS_TO_SETUP = [\n",
    "\tCHECKPOINT_DIR,\n",
    "\tGENERATED_IMAGES_DIR,\n",
    "\tSINGLE_IMAGE_DIR,\n",
    "\tCOLLAGE_DIR\n",
    "]"
   ]
  },
  {
   "cell_type": "code",
   "execution_count": 3,
   "id": "26d5c2fe-e8a9-49d1-a2b7-d6422efff619",
   "metadata": {},
   "outputs": [],
   "source": [
    "def mkdir(path):\n",
    "\tpath.mkdir(exist_ok=True)"
   ]
  },
  {
   "cell_type": "code",
   "execution_count": 4,
   "id": "cc4b6562-7120-42e1-b78d-904388c7c0c2",
   "metadata": {},
   "outputs": [],
   "source": [
    "def setup_folders(paths: list):\n",
    "\tfor path in paths:\n",
    "\t\tmkdir(path)"
   ]
  },
  {
   "cell_type": "markdown",
   "id": "d20098b5-fb04-495b-96f9-852f6675338b",
   "metadata": {},
   "source": [
    "#### data preparation"
   ]
  },
  {
   "cell_type": "code",
   "execution_count": 5,
   "id": "9a653bd1-9d61-4386-9d88-bf6e09936067",
   "metadata": {},
   "outputs": [],
   "source": [
    "IMAGE_SHAPE = (64, 64, 3)\n",
    "BATCHSIZE = 64"
   ]
  },
  {
   "cell_type": "code",
   "execution_count": 6,
   "id": "0fe17b39-2f88-4746-b07b-e94ad599a59d",
   "metadata": {},
   "outputs": [],
   "source": [
    "def normalize_images(images):\n",
    "\treturn (images-127.5)/127.5"
   ]
  },
  {
   "cell_type": "code",
   "execution_count": 7,
   "id": "b8731882-831b-453b-aa1d-e7519e07af59",
   "metadata": {},
   "outputs": [],
   "source": [
    "def denormalize_images(images):\n",
    "\treturn np.array(((images*127.5)+127.5), dtype='uint8')"
   ]
  },
  {
   "cell_type": "code",
   "execution_count": 8,
   "id": "2b5b32ab-6920-4887-84c1-33ea5ad88dd3",
   "metadata": {},
   "outputs": [],
   "source": [
    "def prepare_images():\n",
    "\timages = np.array([plt.imread(image) for image in (DATASET_PATH/'monet_jpg').glob('*')], dtype='float32')\n",
    "\tassert images.shape == (images.shape[0], 256, 256, 3), 'input images have the wrong dimensions!'\n",
    "\t\n",
    "\tresized_images = np.array([cv2.resize(image, [64, 64], interpolation=cv2.INTER_AREA) for image in images])\n",
    "\tnormalized_images = normalize_images(resized_images)\n",
    "\tassert normalized_images.shape[1:] == (64, 64, 3), 'output images have the wrong dimensions!'\n",
    "\t\n",
    "\treturn normalized_images"
   ]
  },
  {
   "cell_type": "code",
   "execution_count": 9,
   "id": "daaac5cd-5c4b-4352-8cb4-476e0f3c0056",
   "metadata": {},
   "outputs": [],
   "source": [
    "images = prepare_images()\n",
    "train_dataset = tf.data.Dataset.from_tensor_slices(images).shuffle(images.shape[0]).batch(BATCHSIZE)"
   ]
  },
  {
   "cell_type": "markdown",
   "id": "138ed8b7-7ecc-47d6-8a0d-cdbbb9110791",
   "metadata": {},
   "source": [
    "#### model building"
   ]
  },
  {
   "cell_type": "code",
   "execution_count": 10,
   "id": "3e7385ec-bdeb-4320-997e-fede2f77f6a6",
   "metadata": {},
   "outputs": [],
   "source": [
    "from tensorflow.keras import layers"
   ]
  },
  {
   "cell_type": "code",
   "execution_count": 11,
   "id": "22511423-8e5c-4e60-ab37-134506109560",
   "metadata": {},
   "outputs": [],
   "source": [
    "def wasserstein_loss(y_true, y_pred):\n",
    "\ttf.keras.backend.mean(y_true*y_pred)"
   ]
  },
  {
   "cell_type": "code",
   "execution_count": 12,
   "id": "66e38824-ff40-41c3-bd31-ba1202793044",
   "metadata": {},
   "outputs": [],
   "source": [
    "def conv_block(x, n_filters, kernel_size=(3, 3), strides=(2, 2), padding='same'):\n",
    "\tx = layers.Conv2D(n_filters, kernel_size, strides, padding)(x)\n",
    "\tx = layers.LeakyReLU(0.1)(x)\n",
    "\tx = layers.Dropout(0.3)(x)\n",
    "\treturn x"
   ]
  },
  {
   "cell_type": "code",
   "execution_count": 13,
   "id": "aab51c21-dc37-40a2-824e-2ec8a51d2290",
   "metadata": {},
   "outputs": [],
   "source": [
    "def transposed_conv_block(x, n_filters, kernel_size=(3, 3), strides=(2, 2), padding=('same')):\n",
    "\tx = layers.Conv2DTranspose(n_filters, kernel_size, strides, padding, use_bias=False)(x)\n",
    "\tx = layers.BatchNormalization()(x)\n",
    "\tx = layers.LeakyReLU(0.1)(x)\n",
    "\treturn x"
   ]
  },
  {
   "cell_type": "code",
   "execution_count": 41,
   "id": "2b4c6b37-ba2f-4f8d-822c-42a281ae7116",
   "metadata": {},
   "outputs": [],
   "source": [
    "def get_multiplied_image_dimension(current_dimensions, factor):\n",
    "\treturn [dimension*factor for dimension in current_dimensions[-2:-4:-1]]"
   ]
  },
  {
   "cell_type": "code",
   "execution_count": 16,
   "id": "84505ed8-03a6-49d1-9369-678f89d14df0",
   "metadata": {},
   "outputs": [],
   "source": [
    "def resizing_conv_block(x, n_filters, kernel_size=(3, 3), strides=(1, 1), padding='same'):\n",
    "\tx = layers.Resizing(*get_multiplied_image_dimension(x.shape, 0.5), interpolation='nearest')(x)\n",
    "\tx = layers.Conv2D(n_filters, kernel_size, strides, padding)\n",
    "\tx = layers.Normalization()(x)\n",
    "\tx = layers.LeakyReLU(0.1)(x)\n",
    "\treturn x"
   ]
  },
  {
   "cell_type": "code",
   "execution_count": 42,
   "id": "d8ff225d-efc4-46bf-aec3-6af89c9c7461",
   "metadata": {},
   "outputs": [],
   "source": [
    "def resizing_transposed_conv_block(x, n_filters, kernel_size=(3, 3), strides=(1, 1), padding='same'):\n",
    "\tx = layers.Resizing(*get_multiplied_image_dimension(x.shape, 2), interpolation='nearest')(x)\n",
    "\tx = layers.Conv2DTranspose(n_filters, kernel_size, strides, padding)(x)\n",
    "\tx = layers.LayerNormalization()(x)\n",
    "\tx = layers.LeakyReLU(0.1)(x)\n",
    "\treturn x"
   ]
  },
  {
   "cell_type": "code",
   "execution_count": 45,
   "id": "69921561-54b4-43ff-ae4f-b0d21250a1c5",
   "metadata": {},
   "outputs": [],
   "source": [
    "class Generator():\n",
    "\tdef __init__(self, input_size):\n",
    "\t\tself.input_size = input_size\n",
    "\t\tself.optimizer = tf.keras.optimizers.Adam(2e-4, 0.5, 0.9)\n",
    "\t\tself.model = self.build()\n",
    "\t\t\n",
    "\tdef __call__(self, inputs):\n",
    "\t\treturn self.model(inputs)\n",
    "\t\n",
    "\tdef build(self):\n",
    "\t\tinitial_dimensions = (8, 8)\n",
    "\t\tinputs = layers.Input(self.input_size)\n",
    "\n",
    "\t\tx = layers.Dense(np.product(initial_dimensions)*128)(inputs)\n",
    "\t\tx = layers.LayerNormalization()(x)\n",
    "\t\tx = layers.LeakyReLU(0.1)(x)\n",
    "\n",
    "\t\tx = layers.Reshape((*initial_dimensions, 128))(x)\n",
    "\t\t\n",
    "\t\tx = resizing_transposed_conv_block(x, 128)\n",
    "\t\tx = resizing_transposed_conv_block(x, 128)\n",
    "\n",
    "\t\toutputs = resizing_transposed_conv_block(x, 3)\n",
    "\t\tassert outputs.shape == [None, 64, 64, 3], f'output tensor\\'s shapes are wrong, {outputs.shape}'\n",
    "\n",
    "\t\tmodel = tf.keras.Model(inputs, outputs, name='generator')\n",
    "\n",
    "\t\treturn model\n",
    "\t\n",
    "\tdef compute_loss(self, fake_image):\n",
    "\t\treturn -tf.reduce_mean(fake_image)"
   ]
  },
  {
   "cell_type": "code",
   "execution_count": 19,
   "id": "7184f975-2520-4b61-b51f-9aa8c502346c",
   "metadata": {},
   "outputs": [],
   "source": [
    "class Critic():\n",
    "\tdef __init__(self, input_size):\n",
    "\t\tself.input_size = input_size\n",
    "\t\tself.optimizer = tf.keras.optimizers.Adam(2e-4, 0.5, 0.9)\n",
    "\t\tself.model = self.build()\n",
    "\t\t# self.model.compile(optimizer=self.optimizer, loss=self.compute_loss)\n",
    "\t\t\n",
    "\tdef __call__(self, inputs):\n",
    "\t\treturn self.model(inputs)\n",
    "\t\n",
    "\tdef build(self):\n",
    "\t\tinputs = layers.Input(self.input_size)\n",
    "\n",
    "\t\tx = conv_block(inputs, 64)\n",
    "\t\tx = conv_block(inputs, 128)\n",
    "\t\tx = conv_block(x, 256)\n",
    "\n",
    "\t\tx = layers.Flatten()(x)\n",
    "\t\tx = layers.Dropout(0.3)(x)\n",
    "\t\toutputs = layers.Dense(1)(x)\n",
    "\n",
    "\t\tmodel = tf.keras.Model(inputs, outputs, name='critic')\n",
    "\n",
    "\t\treturn model\n",
    "\t\n",
    "\tdef compute_loss(self, real_predictions, fake_predictions):\n",
    "\t\treal_loss = tf.reduce_mean(real_predictions)\n",
    "\t\tfake_loss = tf.reduce_mean(fake_predictions)\n",
    "\t\treturn fake_loss - real_loss"
   ]
  },
  {
   "cell_type": "code",
   "execution_count": 54,
   "id": "b924d5fc-a528-428e-b758-d2800a89b969",
   "metadata": {},
   "outputs": [],
   "source": [
    "class WGAN(tf.keras.Model):\n",
    "\tdef __init__(self, generator, critic, latent_dim, batchsize=BATCHSIZE, critic_extra_steps=3, alpha=1e-4, beta1=0, beta2=0.9, lambd=10):\n",
    "\t\tsuper().__init__()\n",
    "\t\tself.generator = generator\n",
    "\t\tself.critic = critic\n",
    "\t\tself.optimizer = tf.keras.optimizers.Adam(alpha, beta1, beta2)\n",
    "\t\tself.latent_dim = latent_dim\n",
    "\t\tself.critic_extra_steps = critic_extra_steps\n",
    "\t\tself.batchsize = BATCHSIZE\n",
    "\t\tself.lambd = lambd\n",
    "\t\tself.last_epoch = 0\n",
    "\n",
    "\tdef compute_gradient_penalty(self, generated_images, real_images):\n",
    "\t\tepsilon = tf.random.uniform((tf.shape(real_images)[0], 1, 1, 1), 0, 1)\n",
    "\t\tinterpolated_generated_images = epsilon * real_images + (1-epsilon) * generated_images\n",
    "\n",
    "\t\twith tf.GradientTape() as gp_tape:\n",
    "\t\t\tgp_tape.watch(interpolated_generated_images)\n",
    "\t\t\tprediction = critic(interpolated_generated_images)\n",
    "\n",
    "\t\tgrads = gp_tape.gradient(prediction, interpolated_generated_images)\n",
    "\t\t\n",
    "\t\t# norm = tf.sqrt(tf.reduce_sum(tf.square(grads), axis=(1, 2, 3)))\n",
    "\n",
    "\t\t# in the official paper the formula suggested to be only used on singular examples, therefore omit batchnormalization. This might be an alternative\n",
    "\t\tnorm = tf.reduce_mean(tf.sqrt(tf.reduce_sum(tf.square(grads), axis=(1, 2, 3))))\n",
    "\t\tgradient_penalty = self.lambd * tf.square(norm - 1)\n",
    "\n",
    "\t\treturn gradient_penalty\n",
    "\n",
    "\tdef train_step(self, images):\n",
    "\t\tfor _ in range(self.critic_extra_steps):\n",
    "\t\t\tnoise = tf.random.normal(shape=(tf.shape(images)[0], self.latent_dim))\n",
    "\t\t\t\n",
    "\t\t\twith tf.GradientTape() as tape:\n",
    "\t\t\t\tgenerated_images = self.generator(noise)\n",
    "\t\t\t\tfake_predictions = self.critic(generated_images)\n",
    "\t\t\t\treal_predictions = self.critic(images)\n",
    "\t\t\t\n",
    "\t\t\t\tc_cost = self.critic.compute_loss(real_predictions, fake_predictions)\n",
    "\t\t\t\tgradient_penalty = self.compute_gradient_penalty(generated_images, images)\n",
    "\t\t\t\tc_loss = c_cost + gradient_penalty\n",
    "\t\t\n",
    "\t\t\tc_gradient = tape.gradient(c_loss, self.critic.model.trainable_variables)\n",
    "\t\t\tself.critic.optimizer.apply_gradients(zip(c_gradient, self.critic.model.trainable_variables))\n",
    "\n",
    "\t\tnoise = tf.random.normal((self.batchsize, self.latent_dim))\n",
    "\t\t\n",
    "\t\twith tf.GradientTape() as tape:\n",
    "\t\t\tgenerated_images = self.generator(noise)\n",
    "\t\t\tfake_predictions = self.critic(generated_images)\n",
    "\t\t\tg_loss = self.generator.compute_loss(fake_predictions)\n",
    "\t\t\n",
    "\t\tg_gradient = tape.gradient(g_loss, self.generator.model.trainable_variables)\n",
    "\t\tself.generator.optimizer.apply_gradients(zip(g_gradient, self.generator.model.trainable_variables))\n",
    "\t\t\n",
    "\t\treturn {'c_loss': c_loss, 'g_loss': g_loss}"
   ]
  },
  {
   "cell_type": "code",
   "execution_count": 21,
   "id": "09cdeb5b-7cef-409d-b959-c71cd5bde66f",
   "metadata": {},
   "outputs": [],
   "source": [
    "class GANMonitor(tf.keras.callbacks.Callback):\n",
    "\tdef __init__(self, n_images=16, latent_dim=100):\n",
    "\t\tself.n_images = n_images\n",
    "\t\tself.latent_dim = latent_dim\n",
    "\t\t\n",
    "\tdef on_epoch_end(self, epoch, logs=None):\n",
    "\t\tnoise = tf.random.normal((self.n_images, self.latent_dim))\n",
    "\t\tgenerated_images = self.model.generator(noise)\n",
    "\t\tgenerated_images = denormalize_images(generated_images)\n",
    "\t\n",
    "\t\t# display.clear_output(True)\n",
    "\t\t\n",
    "\t\tfor i in range(self.n_images):\n",
    "\t\t\tplt.subplot(4, 4, i+1)\n",
    "\t\t\tplt.imshow(generated_images[i])\n",
    "\t\t\tplt.axis('off')\n",
    "\t\t\t\n",
    "\t\tif epoch % 25 == 0:\n",
    "\t\t\tcheckpoint.save(CHECKPOINT_DIR/'checkpoint')\n",
    "\t\t\n",
    "\t\tif epoch % 10 == 0:\n",
    "\t\t\tplt.savefig(GENERATED_IMAGES_DIR/f'image_at_epoch_{epoch}.png', format='png', dpi=300)\n",
    "\t\t\t\n",
    "\t\tplt.show"
   ]
  },
  {
   "cell_type": "markdown",
   "id": "8a5f20e4-8e0a-4796-b029-f608954a7a40",
   "metadata": {
    "tags": []
   },
   "source": [
    "#### training"
   ]
  },
  {
   "cell_type": "code",
   "execution_count": 22,
   "id": "94c12402-72fd-44f9-b8ab-5167abf8e445",
   "metadata": {},
   "outputs": [],
   "source": [
    "LATENT_DIM = 100"
   ]
  },
  {
   "cell_type": "code",
   "execution_count": 46,
   "id": "312316c5-5950-45a6-8c83-6b63b2beb4cf",
   "metadata": {
    "tags": []
   },
   "outputs": [],
   "source": [
    "gan_monitor = GANMonitor()\n",
    "generator = Generator(LATENT_DIM)\n",
    "critic = Critic(IMAGE_SHAPE)\n",
    "checkpoint = tf.train.Checkpoint(\n",
    "\tgenerator_optimizer=generator.optimizer,\n",
    "\tcritic_optimizer=critic.optimizer,\n",
    "\tgenerator=generator.model,\n",
    "\tcritic=critic.model\n",
    ")"
   ]
  },
  {
   "cell_type": "code",
   "execution_count": 47,
   "id": "8fcbb10d-810b-4b08-a612-67e062e835a3",
   "metadata": {},
   "outputs": [],
   "source": [
    "wgan = WGAN(generator, critic, LATENT_DIM)\n",
    "wgan.compile()"
   ]
  },
  {
   "cell_type": "code",
   "execution_count": 51,
   "id": "173fbf4d-4915-4035-a8cb-e8ecef87b3a4",
   "metadata": {
    "collapsed": true,
    "jupyter": {
     "outputs_hidden": true
    },
    "tags": []
   },
   "outputs": [
    {
     "name": "stdout",
     "output_type": "stream",
     "text": [
      "Epoch 1/100\n",
      "5/5 [==============================] - 2s 496ms/step - c_loss: -133.2323 - g_loss: 50.6516\n",
      "Epoch 2/100\n",
      "5/5 [==============================] - 2s 398ms/step - c_loss: -155.7642 - g_loss: 80.1242\n",
      "Epoch 3/100\n",
      "5/5 [==============================] - 2s 413ms/step - c_loss: -156.7145 - g_loss: 71.6707\n",
      "Epoch 4/100\n",
      "5/5 [==============================] - 2s 418ms/step - c_loss: -154.2932 - g_loss: 66.8378\n",
      "Epoch 5/100\n",
      "5/5 [==============================] - 2s 415ms/step - c_loss: -146.5437 - g_loss: 61.2132\n",
      "Epoch 6/100\n",
      "5/5 [==============================] - 2s 419ms/step - c_loss: -133.3228 - g_loss: 62.4700\n",
      "Epoch 7/100\n",
      "5/5 [==============================] - 2s 509ms/step - c_loss: -132.7110 - g_loss: 75.2379\n",
      "Epoch 8/100\n",
      "5/5 [==============================] - 2s 396ms/step - c_loss: -113.1608 - g_loss: 56.8981\n",
      "Epoch 9/100\n",
      "5/5 [==============================] - 2s 428ms/step - c_loss: -105.3909 - g_loss: 45.9665\n",
      "Epoch 10/100\n",
      "5/5 [==============================] - 2s 431ms/step - c_loss: -98.0635 - g_loss: 47.9186\n",
      "Epoch 11/100\n",
      "5/5 [==============================] - 3s 548ms/step - c_loss: -101.0634 - g_loss: 49.2495\n",
      "Epoch 12/100\n",
      "5/5 [==============================] - 2s 399ms/step - c_loss: -110.7446 - g_loss: 66.1724\n",
      "Epoch 13/100\n",
      "5/5 [==============================] - 2s 438ms/step - c_loss: -107.0844 - g_loss: 57.3302\n",
      "Epoch 14/100\n",
      "5/5 [==============================] - 2s 436ms/step - c_loss: -92.3428 - g_loss: 43.5752\n",
      "Epoch 15/100\n",
      "5/5 [==============================] - 2s 434ms/step - c_loss: -89.4206 - g_loss: 36.2996\n",
      "Epoch 16/100\n",
      "5/5 [==============================] - 2s 433ms/step - c_loss: -85.4525 - g_loss: 39.5038\n",
      "Epoch 17/100\n",
      "5/5 [==============================] - 2s 433ms/step - c_loss: -92.4536 - g_loss: 47.1943\n",
      "Epoch 18/100\n",
      "5/5 [==============================] - 2s 428ms/step - c_loss: -89.6132 - g_loss: 43.0019\n",
      "Epoch 19/100\n",
      "5/5 [==============================] - 2s 428ms/step - c_loss: -83.9840 - g_loss: 40.8393\n",
      "Epoch 20/100\n",
      "5/5 [==============================] - 2s 436ms/step - c_loss: -70.6175 - g_loss: 22.0210\n",
      "Epoch 21/100\n",
      "5/5 [==============================] - 3s 640ms/step - c_loss: -82.7259 - g_loss: 32.3888\n",
      "Epoch 22/100\n",
      "5/5 [==============================] - 2s 407ms/step - c_loss: -81.1271 - g_loss: 33.3089\n",
      "Epoch 23/100\n",
      "5/5 [==============================] - 2s 431ms/step - c_loss: -95.6456 - g_loss: 44.6503\n",
      "Epoch 24/100\n",
      "5/5 [==============================] - 2s 426ms/step - c_loss: -85.7885 - g_loss: 33.2000\n",
      "Epoch 25/100\n",
      "5/5 [==============================] - 2s 425ms/step - c_loss: -80.3358 - g_loss: 32.7998\n",
      "Epoch 26/100\n",
      "5/5 [==============================] - 2s 458ms/step - c_loss: -74.9099 - g_loss: 28.7705\n",
      "Epoch 27/100\n",
      "5/5 [==============================] - 2s 425ms/step - c_loss: -78.2964 - g_loss: 26.8462\n",
      "Epoch 28/100\n",
      "5/5 [==============================] - 2s 433ms/step - c_loss: -107.9345 - g_loss: 54.5808\n",
      "Epoch 29/100\n",
      "5/5 [==============================] - 2s 429ms/step - c_loss: -99.8295 - g_loss: 47.1878\n",
      "Epoch 30/100\n",
      "5/5 [==============================] - 2s 429ms/step - c_loss: -82.9962 - g_loss: 25.1580\n",
      "Epoch 31/100\n",
      "5/5 [==============================] - 3s 712ms/step - c_loss: -91.5531 - g_loss: 38.3325\n",
      "Epoch 32/100\n",
      "5/5 [==============================] - 2s 408ms/step - c_loss: -86.3809 - g_loss: 33.9548\n",
      "Epoch 33/100\n",
      "5/5 [==============================] - 2s 434ms/step - c_loss: -92.7085 - g_loss: 38.9621\n",
      "Epoch 34/100\n",
      "5/5 [==============================] - 2s 432ms/step - c_loss: -81.1877 - g_loss: 34.3908\n",
      "Epoch 35/100\n",
      "5/5 [==============================] - 2s 433ms/step - c_loss: -90.8290 - g_loss: 51.5664\n",
      "Epoch 36/100\n",
      "5/5 [==============================] - 2s 439ms/step - c_loss: -81.0167 - g_loss: 45.0985\n",
      "Epoch 37/100\n",
      "5/5 [==============================] - 2s 428ms/step - c_loss: -71.3997 - g_loss: 22.3965\n",
      "Epoch 38/100\n",
      "5/5 [==============================] - 2s 429ms/step - c_loss: -121.1468 - g_loss: 69.7063\n",
      "Epoch 39/100\n",
      "5/5 [==============================] - 2s 429ms/step - c_loss: -103.6716 - g_loss: 37.8538\n",
      "Epoch 40/100\n",
      "5/5 [==============================] - 2s 434ms/step - c_loss: -103.1481 - g_loss: 41.2617\n",
      "Epoch 41/100\n",
      "5/5 [==============================] - 4s 822ms/step - c_loss: -69.4401 - g_loss: 11.1764\n",
      "Epoch 42/100\n",
      "5/5 [==============================] - 2s 401ms/step - c_loss: -67.1999 - g_loss: 4.0302\n",
      "Epoch 43/100\n",
      "5/5 [==============================] - 2s 428ms/step - c_loss: -80.0430 - g_loss: 12.9738\n",
      "Epoch 44/100\n",
      "5/5 [==============================] - 2s 442ms/step - c_loss: -85.6016 - g_loss: 36.2309\n",
      "Epoch 45/100\n",
      "5/5 [==============================] - 2s 426ms/step - c_loss: -91.0137 - g_loss: 30.5834\n",
      "Epoch 46/100\n",
      "5/5 [==============================] - 2s 426ms/step - c_loss: -62.3159 - g_loss: -2.0712\n",
      "Epoch 47/100\n",
      "5/5 [==============================] - 2s 429ms/step - c_loss: -83.3692 - g_loss: 19.3904\n",
      "Epoch 48/100\n",
      "5/5 [==============================] - 2s 432ms/step - c_loss: -89.6723 - g_loss: 39.6601\n",
      "Epoch 49/100\n",
      "5/5 [==============================] - 2s 430ms/step - c_loss: -74.9452 - g_loss: 24.3599\n",
      "Epoch 50/100\n",
      "5/5 [==============================] - 2s 429ms/step - c_loss: -74.0002 - g_loss: 23.7002\n",
      "Epoch 51/100\n",
      "5/5 [==============================] - 4s 970ms/step - c_loss: -71.1344 - g_loss: 17.9104\n",
      "Epoch 52/100\n",
      "5/5 [==============================] - 2s 395ms/step - c_loss: -71.4977 - g_loss: 11.8956\n",
      "Epoch 53/100\n",
      "5/5 [==============================] - 2s 428ms/step - c_loss: -69.8069 - g_loss: 12.0122\n",
      "Epoch 54/100\n",
      "5/5 [==============================] - 2s 427ms/step - c_loss: -69.9206 - g_loss: 16.6793\n",
      "Epoch 55/100\n",
      "5/5 [==============================] - 2s 438ms/step - c_loss: -76.9995 - g_loss: 18.0133\n",
      "Epoch 56/100\n",
      "5/5 [==============================] - 2s 433ms/step - c_loss: -71.2671 - g_loss: 17.7233\n",
      "Epoch 57/100\n",
      "5/5 [==============================] - 2s 436ms/step - c_loss: -72.8464 - g_loss: 16.6197\n",
      "Epoch 58/100\n",
      "5/5 [==============================] - 2s 432ms/step - c_loss: -72.2902 - g_loss: 17.2117\n",
      "Epoch 59/100\n",
      "5/5 [==============================] - 2s 430ms/step - c_loss: -72.1469 - g_loss: 15.2356\n",
      "Epoch 60/100\n",
      "5/5 [==============================] - 2s 436ms/step - c_loss: -71.7002 - g_loss: 17.9443\n",
      "Epoch 61/100\n",
      "5/5 [==============================] - 4s 968ms/step - c_loss: -60.4519 - g_loss: 5.8995\n",
      "Epoch 62/100\n",
      "5/5 [==============================] - 2s 398ms/step - c_loss: -78.7584 - g_loss: 13.5305\n",
      "Epoch 63/100\n",
      "5/5 [==============================] - 2s 438ms/step - c_loss: -92.3577 - g_loss: 36.1913\n",
      "Epoch 64/100\n",
      "5/5 [==============================] - 2s 426ms/step - c_loss: -98.9136 - g_loss: 40.2983\n",
      "Epoch 65/100\n",
      "5/5 [==============================] - 2s 436ms/step - c_loss: -82.5658 - g_loss: 28.1847\n",
      "Epoch 66/100\n",
      "5/5 [==============================] - 2s 428ms/step - c_loss: -74.0453 - g_loss: 15.6910\n",
      "Epoch 67/100\n",
      "5/5 [==============================] - 2s 429ms/step - c_loss: -102.4100 - g_loss: 42.5330\n",
      "Epoch 68/100\n",
      "5/5 [==============================] - 2s 428ms/step - c_loss: -76.5224 - g_loss: 23.0932\n",
      "Epoch 69/100\n",
      "5/5 [==============================] - 2s 435ms/step - c_loss: -77.5726 - g_loss: 19.3670\n",
      "Epoch 70/100\n",
      "5/5 [==============================] - 2s 432ms/step - c_loss: -61.5398 - g_loss: 4.6077\n",
      "Epoch 71/100\n",
      "5/5 [==============================] - 5s 1s/step - c_loss: -74.9411 - g_loss: 8.5888\n",
      "Epoch 72/100\n",
      "5/5 [==============================] - 2s 398ms/step - c_loss: -100.1934 - g_loss: 44.5024\n",
      "Epoch 73/100\n",
      "5/5 [==============================] - 2s 429ms/step - c_loss: -95.8518 - g_loss: 30.5396\n",
      "Epoch 74/100\n",
      "5/5 [==============================] - 2s 431ms/step - c_loss: -80.5812 - g_loss: 14.6146\n",
      "Epoch 75/100\n",
      "5/5 [==============================] - 2s 432ms/step - c_loss: -89.0649 - g_loss: 29.7045\n",
      "Epoch 76/100\n",
      "5/5 [==============================] - 2s 460ms/step - c_loss: -99.3995 - g_loss: 36.8461\n",
      "Epoch 77/100\n",
      "5/5 [==============================] - 2s 429ms/step - c_loss: -102.1231 - g_loss: 38.0137\n",
      "Epoch 78/100\n",
      "5/5 [==============================] - 2s 426ms/step - c_loss: -84.1611 - g_loss: 30.3746\n",
      "Epoch 79/100\n",
      "5/5 [==============================] - 2s 427ms/step - c_loss: -76.2003 - g_loss: 21.5914\n",
      "Epoch 80/100\n",
      "5/5 [==============================] - 2s 427ms/step - c_loss: -79.1543 - g_loss: 23.5088\n",
      "Epoch 81/100\n",
      "5/5 [==============================] - 5s 1s/step - c_loss: -66.2790 - g_loss: 11.7237\n",
      "Epoch 82/100\n",
      "5/5 [==============================] - 2s 400ms/step - c_loss: -65.1422 - g_loss: 10.6734\n",
      "Epoch 83/100\n",
      "5/5 [==============================] - 2s 436ms/step - c_loss: -68.2535 - g_loss: 7.7289\n",
      "Epoch 84/100\n",
      "5/5 [==============================] - 2s 453ms/step - c_loss: -89.8811 - g_loss: 30.6455\n",
      "Epoch 85/100\n",
      "5/5 [==============================] - 2s 427ms/step - c_loss: -69.1551 - g_loss: 9.2511\n",
      "Epoch 86/100\n",
      "5/5 [==============================] - 2s 434ms/step - c_loss: -72.0812 - g_loss: 17.1618\n",
      "Epoch 87/100\n",
      "5/5 [==============================] - 2s 426ms/step - c_loss: -68.8985 - g_loss: 13.2738\n",
      "Epoch 88/100\n",
      "5/5 [==============================] - 2s 438ms/step - c_loss: -59.4170 - g_loss: 3.7567\n",
      "Epoch 89/100\n",
      "5/5 [==============================] - 2s 452ms/step - c_loss: -77.0887 - g_loss: 13.3519\n",
      "Epoch 90/100\n",
      "5/5 [==============================] - 2s 429ms/step - c_loss: -91.7419 - g_loss: 30.1655\n",
      "Epoch 91/100\n",
      "5/5 [==============================] - 6s 1s/step - c_loss: -104.2546 - g_loss: 30.1946\n",
      "Epoch 92/100\n",
      "5/5 [==============================] - 2s 397ms/step - c_loss: -79.8338 - g_loss: 8.6205\n",
      "Epoch 93/100\n",
      "5/5 [==============================] - 2s 425ms/step - c_loss: -78.9188 - g_loss: 8.2760\n",
      "Epoch 94/100\n",
      "5/5 [==============================] - 2s 428ms/step - c_loss: -93.8216 - g_loss: 32.3710\n",
      "Epoch 95/100\n",
      "5/5 [==============================] - 2s 426ms/step - c_loss: -75.5655 - g_loss: 18.3703\n",
      "Epoch 96/100\n",
      "5/5 [==============================] - 2s 425ms/step - c_loss: -68.0707 - g_loss: 7.2559\n",
      "Epoch 97/100\n",
      "5/5 [==============================] - 2s 428ms/step - c_loss: -83.2399 - g_loss: 18.1429\n",
      "Epoch 98/100\n",
      "5/5 [==============================] - 2s 430ms/step - c_loss: -84.1241 - g_loss: 21.8187\n",
      "Epoch 99/100\n",
      "5/5 [==============================] - 2s 430ms/step - c_loss: -70.7711 - g_loss: 9.8617\n",
      "Epoch 100/100\n",
      "5/5 [==============================] - 2s 431ms/step - c_loss: -66.5449 - g_loss: 5.8509\n"
     ]
    },
    {
     "data": {
      "text/plain": [
       "<keras.callbacks.History at 0x182400639d0>"
      ]
     },
     "execution_count": 51,
     "metadata": {},
     "output_type": "execute_result"
    },
    {
     "data": {
      "image/png": "[encoded data removed]",
      "text/plain": [
       "<Figure size 432x288 with 16 Axes>"
      ]
     },
     "metadata": {
      "needs_background": "light"
     },
     "output_type": "display_data"
    }
   ],
   "source": [
    "EPOCHS = 100\n",
    "setup_folders(FOLDERS_TO_SETUP)\n",
    "wgan.fit(train_dataset, shuffle=True, batch_size=BATCHSIZE, epochs=EPOCHS, callbacks=[gan_monitor])"
   ]
  },
  {
   "cell_type": "code",
   "execution_count": 53,
   "id": "89675ca7-29f1-408a-a326-d40de3301418",
   "metadata": {},
   "outputs": [
    {
     "data": {
      "text/plain": [
       "[<matplotlib.lines.Line2D at 0x18238c34dc0>]"
      ]
     },
     "execution_count": 53,
     "metadata": {},
     "output_type": "execute_result"
    },
    {
     "data": {
      "image/png": "[encoded data removed]",
      "text/plain": [
       "<Figure size 432x288 with 1 Axes>"
      ]
     },
     "metadata": {
      "needs_background": "light"
     },
     "output_type": "display_data"
    }
   ],
   "source": [
    "plt.plot(wgan.history.history['c_loss'])"
   ]
  },
  {
   "cell_type": "code",
   "execution_count": 52,
   "id": "a5baf5ea-aeb7-402d-b485-0b078f9a88b4",
   "metadata": {},
   "outputs": [
    {
     "data": {
      "text/plain": [
       "[0,\n",
       " 1,\n",
       " 2,\n",
       " 3,\n",
       " 4,\n",
       " 5,\n",
       " 6,\n",
       " 7,\n",
       " 8,\n",
       " 9,\n",
       " 10,\n",
       " 11,\n",
       " 12,\n",
       " 13,\n",
       " 14,\n",
       " 15,\n",
       " 16,\n",
       " 17,\n",
       " 18,\n",
       " 19,\n",
       " 20,\n",
       " 21,\n",
       " 22,\n",
       " 23,\n",
       " 24,\n",
       " 25,\n",
       " 26,\n",
       " 27,\n",
       " 28,\n",
       " 29,\n",
       " 30,\n",
       " 31,\n",
       " 32,\n",
       " 33,\n",
       " 34,\n",
       " 35,\n",
       " 36,\n",
       " 37,\n",
       " 38,\n",
       " 39,\n",
       " 40,\n",
       " 41,\n",
       " 42,\n",
       " 43,\n",
       " 44,\n",
       " 45,\n",
       " 46,\n",
       " 47,\n",
       " 48,\n",
       " 49,\n",
       " 50,\n",
       " 51,\n",
       " 52,\n",
       " 53,\n",
       " 54,\n",
       " 55,\n",
       " 56,\n",
       " 57,\n",
       " 58,\n",
       " 59,\n",
       " 60,\n",
       " 61,\n",
       " 62,\n",
       " 63,\n",
       " 64,\n",
       " 65,\n",
       " 66,\n",
       " 67,\n",
       " 68,\n",
       " 69,\n",
       " 70,\n",
       " 71,\n",
       " 72,\n",
       " 73,\n",
       " 74,\n",
       " 75,\n",
       " 76,\n",
       " 77,\n",
       " 78,\n",
       " 79,\n",
       " 80,\n",
       " 81,\n",
       " 82,\n",
       " 83,\n",
       " 84,\n",
       " 85,\n",
       " 86,\n",
       " 87,\n",
       " 88,\n",
       " 89,\n",
       " 90,\n",
       " 91,\n",
       " 92,\n",
       " 93,\n",
       " 94,\n",
       " 95,\n",
       " 96,\n",
       " 97,\n",
       " 98,\n",
       " 99]"
      ]
     },
     "execution_count": 52,
     "metadata": {},
     "output_type": "execute_result"
    }
   ],
   "source": [
    "wgan.history.epoch"
   ]
  },
  {
   "cell_type": "markdown",
   "id": "ab34b70b-b80b-451f-b081-9c1f95cd2e56",
   "metadata": {
    "jp-MarkdownHeadingCollapsed": true,
    "tags": []
   },
   "source": [
    "#### refrences\n",
    "http://modelai.gettysburg.edu/2020/wgan/Resources/Lesson5/WGAN-GP.pdf  \n",
    "https://keras.io/examples/generative/wgan_gp/  \n",
    "https://github.com/caogang/wgan-gp/blob/master/gan_mnist.py  \n",
    "https://developers.google.com/machine-learning/gan/loss  \n",
    "https://www.youtube.com/watch?v=pG0QZ7OddX4  \n",
    "https://distill.pub/2016/deconv-checkerboard/  "
   ]
  }
 ],
 "metadata": {
  "kernelspec": {
   "display_name": "datascience",
   "language": "python",
   "name": "datascience"
  },
  "language_info": {
   "codemirror_mode": {
    "name": "ipython",
    "version": 3
   },
   "file_extension": ".py",
   "mimetype": "text/x-python",
   "name": "python",
   "nbconvert_exporter": "python",
   "pygments_lexer": "ipython3",
   "version": "3.10.4"
  }
 },
 "nbformat": 4,
 "nbformat_minor": 5
}
